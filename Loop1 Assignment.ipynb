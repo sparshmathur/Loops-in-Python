{
 "cells": [
  {
   "cell_type": "code",
   "execution_count": 4,
   "id": "d505e311",
   "metadata": {},
   "outputs": [
    {
     "name": "stdout",
     "output_type": "stream",
     "text": [
      "enter first number : 5\n",
      "enter Second number : 6\n",
      "6\n"
     ]
    }
   ],
   "source": [
    "#Write a Python program that takes two numbers as input and prints the larger number.\n",
    "\n",
    "x= int (input(\"enter first number : \"))\n",
    "y= int (input(\"enter Second number : \"))\n",
    "\n",
    "#condition\n",
    "\n",
    "if x>y:\n",
    "    print(x)\n",
    "else:\n",
    "    print(y)\n",
    "    "
   ]
  },
  {
   "cell_type": "code",
   "execution_count": 7,
   "id": "3039370a",
   "metadata": {},
   "outputs": [
    {
     "name": "stdout",
     "output_type": "stream",
     "text": [
      "Enter the month from 1 to 128\n",
      "Current season is Fall\n"
     ]
    }
   ],
   "source": [
    "#Create a Python program that asks the user for a month (1-12) and then prints the corresponding season (\"Spring,\" \"Summer,\" \"Fall,\" or \"Winter\").\n",
    "\n",
    "x = int(input(\"Enter the month from 1 to 12\"))\n",
    "\n",
    "if x>1 and x<4:\n",
    "    print(\"Current season is Spring\")\n",
    "elif x>4 and x<7:\n",
    "    print(\"Current season is Summer\")\n",
    "elif x>7 and x<10:\n",
    "    print(\"Current season is Fall\")\n",
    "else:\n",
    "    print(\"Current season is Winter\")"
   ]
  },
  {
   "cell_type": "code",
   "execution_count": null,
   "id": "9e8652b1",
   "metadata": {},
   "outputs": [],
   "source": [
    "#Write a Python program that determines whether a given year is a leap year or not. Use the leap year rules mentioned earlier.\n",
    "\n",
    "leap = int(input(\"Enter the Year\"))\n",
    "\n",
    "#condition\n",
    "\n",
    "if leap%4==0 and leap%100!=0:\n",
    "    print(\"the entered year is leap year\")\n",
    "    \n",
    "elif leap%400==0 and leap%100==0:\n",
    "    print(\"the entered year is leap year\")\n",
    "else:\n",
    "    print(\"Entered year is not leap year\")\n"
   ]
  },
  {
   "cell_type": "code",
   "execution_count": 9,
   "id": "452caf04",
   "metadata": {},
   "outputs": [
    {
     "name": "stdout",
     "output_type": "stream",
     "text": [
      "enter number : 0\n",
      "x is zero\n"
     ]
    }
   ],
   "source": [
    "#Create a program that takes an integer as input and checks if it's positive, negative, or zero. Print an appropriate message.\n",
    "\n",
    "x= float (input(\"enter number : \"))\n",
    "\n",
    "\n",
    "#condition\n",
    "\n",
    "if x>0:\n",
    "    print(\"x is positive\")\n",
    "elif x==0:\n",
    "    print(\"x is zero\")\n",
    "else:\n",
    "    print(\"x is negative\")\n",
    "    \n"
   ]
  },
  {
   "cell_type": "code",
   "execution_count": 15,
   "id": "c2ce5db3",
   "metadata": {},
   "outputs": [
    {
     "name": "stdout",
     "output_type": "stream",
     "text": [
      "Enter your age: 24\n",
      "Enter your Gender : Male\n",
      "You are young man\n"
     ]
    }
   ],
   "source": [
    "#Write a Python program that asks the user for their age and gender. Based on their age and gender, print a message like \"You are a young man\" or \"You are an old woman.\"\n",
    "\n",
    "x= int (input(\"Enter your age: \"))\n",
    "gender= input(\"Enter your Gender : \")\n",
    "\n",
    "#condition\n",
    "\n",
    "if (x>20 and x<35) and (gender==\"Male\"):\n",
    "    print(\"You are young man\")\n",
    "elif (x>20 and x<35) and (gender==\"Female\"):\n",
    "    print(\"You are young woman\")\n",
    "else:\n",
    "    print(\"You are a child or a old person\")\n"
   ]
  },
  {
   "cell_type": "code",
   "execution_count": 18,
   "id": "1c29705f",
   "metadata": {},
   "outputs": [
    {
     "name": "stdout",
     "output_type": "stream",
     "text": [
      "Enter temperature in celsius: 50\n",
      "50.0 degree Celsius is equal to 122.0 degree Fahrenheit.\n"
     ]
    }
   ],
   "source": [
    "#Create a program that takes a temperature in Celsius and converts it to Fahrenheit. Display the result with an appropriate message.\n",
    "\n",
    "c = float(input(\"Enter temperature in celsius: \"))\n",
    " \n",
    "fahrenheit = (c * 1.8) + 32\n",
    " \n",
    "print(str(c )+ \" degree Celsius is equal to \" + str(fahrenheit )+ \" degree Fahrenheit.\")\n"
   ]
  },
  {
   "cell_type": "code",
   "execution_count": 1,
   "id": "5439b436",
   "metadata": {},
   "outputs": [
    {
     "name": "stdout",
     "output_type": "stream",
     "text": [
      "enter weight : 11\n",
      "Shipping cost is $15.00\n"
     ]
    }
   ],
   "source": [
    "#Write a Python program that calculates the shipping cost based on the weight of a package. Use the following rules:\n",
    "#- Weight <= 2 pounds: $5.00\n",
    "#- 2 pounds < Weight <= 10 pounds: $10.00\n",
    "#- Weight > 10 pounds: $15.00\n",
    "\n",
    "x= float (input(\"enter weight : \"))\n",
    "\n",
    "\n",
    "#condition\n",
    "\n",
    "if x<=2:\n",
    "    print(\"Shipping cost is $5.00\")\n",
    "elif x>2 and x<=10:\n",
    "    print(\"Shipping cost is $10.00\")\n",
    "else:\n",
    "    print(\"Shipping cost is $15.00\")\n",
    "    \n",
    "\n"
   ]
  },
  {
   "cell_type": "code",
   "execution_count": 2,
   "id": "2cf46d61",
   "metadata": {},
   "outputs": [
    {
     "name": "stdout",
     "output_type": "stream",
     "text": [
      "enter first number : 2\n",
      "enter second number : 4\n",
      "enter third number : 1\n",
      "Ascending order is  [1, 2, 4]\n"
     ]
    }
   ],
   "source": [
    "#Create a program that asks the user for three numbers and then prints them in ascending order.\n",
    "x= int (input(\"enter first number : \"))\n",
    "y= int (input(\"enter second number : \"))\n",
    "z= int (input(\"enter third number : \"))\n",
    "\n",
    "#sort in ascending\n",
    "\n",
    "sorted_numbers = sorted([x,y,z])\n",
    "\n",
    "print(\"Ascending order is \", sorted_numbers)\n",
    "\n"
   ]
  },
  {
   "cell_type": "code",
   "execution_count": 3,
   "id": "102e9f02",
   "metadata": {},
   "outputs": [
    {
     "name": "stdout",
     "output_type": "stream",
     "text": [
      "Enter the Year2022\n",
      "Entered year is not leap year\n"
     ]
    }
   ],
   "source": [
    "#Write a Python program that checks if a given year is a \"century year\" (ends in 00). If it's a century year, check if it's a leap year.\n",
    "\n",
    "leap = int(input(\"Enter the Year\"))\n",
    "\n",
    "#condition\n",
    "\n",
    "if leap%4==0 and leap%100!=0:\n",
    "    print(\"the entered year is leap year\")\n",
    "    \n",
    "elif leap%400==0 and leap%100==0:\n",
    "    print(\"the entered year is leap year\")\n",
    "else:\n",
    "    print(\"Entered year is not leap year\")\n",
    "\n",
    "\n"
   ]
  },
  {
   "cell_type": "code",
   "execution_count": 5,
   "id": "7b379965",
   "metadata": {},
   "outputs": [
    {
     "name": "stdout",
     "output_type": "stream",
     "text": [
      "enter no : 5\n",
      "No is Odd\n"
     ]
    }
   ],
   "source": [
    "#Create a program that asks the user for a number and then determines if it's even or odd. Print an appropriate message.\n",
    "x= int (input(\"enter no : \"))\n",
    "\n",
    "\n",
    "#condition\n",
    "\n",
    "if x%2==0:\n",
    "    print(\"No is even\")\n",
    "else:\n",
    "    print(\"No is Odd\")\n",
    "    \n",
    "\n"
   ]
  },
  {
   "cell_type": "code",
   "execution_count": null,
   "id": "c30af8d0",
   "metadata": {},
   "outputs": [],
   "source": []
  },
  {
   "cell_type": "code",
   "execution_count": null,
   "id": "70bb655d",
   "metadata": {},
   "outputs": [],
   "source": []
  }
 ],
 "metadata": {
  "kernelspec": {
   "display_name": "Python 3 (ipykernel)",
   "language": "python",
   "name": "python3"
  },
  "language_info": {
   "codemirror_mode": {
    "name": "ipython",
    "version": 3
   },
   "file_extension": ".py",
   "mimetype": "text/x-python",
   "name": "python",
   "nbconvert_exporter": "python",
   "pygments_lexer": "ipython3",
   "version": "3.11.4"
  }
 },
 "nbformat": 4,
 "nbformat_minor": 5
}
